{
 "cells": [
  {
   "attachments": {},
   "cell_type": "markdown",
   "metadata": {},
   "source": [
    "#\n",
    "Give definitions\n",
    "+\n",
    "Examples for every term \n",
    "\n",
    "\n",
    "Venn diagram Examples in python!!!\n",
    "\n",
    "https://www.geeksforgeeks.org/how-to-create-and-customize-venn-diagrams-in-python/"
   ]
  },
  {
   "attachments": {},
   "cell_type": "markdown",
   "metadata": {},
   "source": [
    "# 2 Probability: univariate models\n",
    "## 2.1 Introduction\n",
    "### 2.1.1 What is probability?\n",
    "\n",
    "**frequentist** interpretation: In this view, probabilities represent long run frequencies of events that can happen multiple times. \n",
    "\n",
    "Example:\n",
    "We flip the coin many times and count number heads. \n",
    "$$ p = \\frac{number\\ of\\ heads}{number\\ of\\ throws}$$\n",
    "\n",
    "For fair coin we expect it to land heads about half the time."
   ]
  },
  {
   "attachments": {},
   "cell_type": "markdown",
   "metadata": {},
   "source": [
    "**Bayesian** interpretation: In this view, probability is used to quantify our uncertainty or ignorance about something\n",
    "\n",
    "In the Bayesian view, we believe the fair coin is equally likely to land heads or tails on the next toss.\n",
    "\n",
    "\n",
    "**Advantage of the Bayesian interpretation** is that it can be used to model our uncertainty about one-off events that do not have long term frequencies.\n",
    "Based on how probable we think this event is, we can decide how to take the optimal\n",
    "action.\n",
    "\n",
    "В [основы вероятностей и теория меры](https://youtu.be/wDQ1IR2pf2I?t=2893) посмотрите часть: математическая модель случайного эксперимента."
   ]
  },
  {
   "attachments": {},
   "cell_type": "markdown",
   "metadata": {},
   "source": [
    "### 2.1.2 Types of uncertainty"
   ]
  },
  {
   "cell_type": "code",
   "execution_count": null,
   "metadata": {},
   "outputs": [],
   "source": []
  }
 ],
 "metadata": {
  "language_info": {
   "name": "python"
  },
  "orig_nbformat": 4
 },
 "nbformat": 4,
 "nbformat_minor": 2
}
