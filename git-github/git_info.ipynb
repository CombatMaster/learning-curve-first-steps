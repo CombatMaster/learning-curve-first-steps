{
 "cells": [
  {
   "attachments": {},
   "cell_type": "markdown",
   "metadata": {},
   "source": [
    "# links, tasks and instructions ..."
   ]
  },
  {
   "attachments": {},
   "cell_type": "markdown",
   "metadata": {},
   "source": [
    "Exercises inspired by \n",
    "\n",
    "[Colt Steele](https://www.udemy.com/user/coltsteele/) course [The Git & Github Bootcamp](https://www.udemy.com/course/git-and-github-bootcamp/)"
   ]
  },
  {
   "cell_type": "markdown",
   "metadata": {},
   "source": [
    "# Structure\n",
    "\n",
    "# 1 Git functions\n",
    "# 2 Instructions\n",
    "# 3 Exercise\n",
    "# 4 Repeat exercise with your data in 2-3 days "
   ]
  },
  {
   "cell_type": "markdown",
   "metadata": {},
   "source": []
  }
 ],
 "metadata": {
  "language_info": {
   "name": "python"
  },
  "orig_nbformat": 4
 },
 "nbformat": 4,
 "nbformat_minor": 2
}
