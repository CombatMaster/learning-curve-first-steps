{
 "cells": [
  {
   "cell_type": "markdown",
   "metadata": {},
   "source": [
    "# 1 Git functions"
   ]
  },
  {
   "cell_type": "markdown",
   "metadata": {},
   "source": [
    "# 2 Instructions"
   ]
  },
  {
   "cell_type": "markdown",
   "metadata": {},
   "source": [
    "# 3 Branching Exercise\n",
    "\n",
    "0. Here you can try different text-art automatic generators:\n",
    "    - by [Patrick Gillespie](http://patorjk.com/software/taag/)\n",
    "    - by [fsymbols site](https://fsymbols.com/text-art/)\n",
    "\n",
    "convolutional, recurrent, lstm, \n",
    "LSTM \n",
    "1. Make a new folder called `Neural_network`\n",
    "2. Make a new git repo inside the folder (make sure you're not in an existing repo)\n",
    "3. Create a new file called `neural_network.txt` (leave it empty for now)\n",
    "4. Add and commit the empty file, with the message \"add empty neural_network file\"\n",
    "5. Immediately make a new branch called `convolutional` and another branch called `recurrent` (both based on the master branch)\n",
    "6. Move to the `convolutional` branch using the `new` command to change branches.\n",
    "7. In the `neural_network.txt` file, add the following:\n",
    "```\n",
    "    Convolutional Neural Network\n",
    "    \n",
    "   ______                                 __           __     _                            __\n",
    "  / ____/  ____    ____  _   __  ____    / /  __  __  / /_   (_)  ____    ____   ____ _   / /\n",
    " / /      / __ \\  / __ \\| | / / / __ \\  / /  / / / / / __/  / /  / __ \\  / __ \\ / __ `/  / / \n",
    "/ /___   / /_/ / / / / /| |/ / / /_/ / / /  / /_/ / / /_   / /  / /_/ / / / / // /_/ /  / /  \n",
    "\\____/   \\____/ /_/ /_/ |___/__\\____/ /_/   \\__,_/  \\__/  /_/   \\____/ /_/ /_/ \\__,_/  /_/   \n",
    "                        / | / /  ___   __  __   _____  ____ _   / /                          \n",
    "                       /  |/ /  / _ \\ / / / /  / ___/ / __ `/  / /                           \n",
    "                      / /|  /  /  __// /_/ /  / /    / /_/ /  / /                            \n",
    "                  _  /__ |_/   \\___/ \\__,_/  /_/     \\__,_/  /_/ __                          \n",
    "                 / | / /  ___   / /_ _      __  ____    _____   / /__                        \n",
    "                /  |/ /  / _ \\ / __/| | /| / / / __ \\  / ___/  / //_/                        \n",
    "               / /|  /  /  __// /_  | |/ |/ / / /_/ / / /     / ,<                           \n",
    "              /_/ |_/   \\___/ \\__/  |__/|__/  \\____/ /_/     /_/|_|                          \n",
    "                                                                                             \n",
    "```\n",
    "8. Add and commit the changes, with the commit message \"add convolutional taag to neural_network file\"\n",
    "9. Move over to the `recurrent` branch using the 'older' command to change branches\n",
    "10. Put the following text in the `neural_network.txt` file:\n",
    "```\n",
    "    Recurrent Neural Network\n",
    "\n",
    "    ____                                                       __ \n",
    "   / __ \\  ___   _____  __  __   _____   _____  ___    ____   / /_\n",
    "  / /_/ / / _ \\ / ___/ / / / /  / ___/  / ___/ / _ \\  / __ \\ / __/\n",
    " / _, _/ /  __// /__  / /_/ /  / /     / /    /  __/ / / / // /_  \n",
    "/_/ |_|  \\___/ \\___/  ___,_/  /_/     /_/     \\___/ /_/ /___\\__/  \n",
    "                 / | / /  ___   __  __   _____  ____ _   / /      \n",
    "                /  |/ /  / _ \\ / / / /  / ___/ / __ `/  / /       \n",
    "               / /|  /  /  __// /_/ /  / /    / /_/ /  / /        \n",
    "           _  /__ |_/   \\___/ \\__,_/  /_/     \\__,_/  /_/ __      \n",
    "          / | / /  ___   / /_ _      __  ____    _____   / /__    \n",
    "         /  |/ /  / _ \\ / __/| | /| / / / __ \\  / ___/  / //_/    \n",
    "        / /|  /  /  __// /_  | |/ |/ / / /_/ / / /     / ,<       \n",
    "       /_/ |_/   \\___/ \\__/  |__/|__/  \\____/ /_/     /_/|_|      \n",
    "                                                                  \n",
    "\n",
    "```\n",
    "11. Add and commit the changes on the `recurrent` branch with the commit message \"add recurrent taag to neural_network file\"\n",
    "12. Next, create a new branch based uppon the `recurrent` branch called `lstm`\n",
    "13. Move to the `lstm` branch\n",
    "14. Edit the `neural_network.txt` file\n",
    "15. Add and commit the change with the message \"add lstm taag to neural_network file\"\n",
    "16. Run a git command to list all branches (you should see 4)\n",
    "17. Delete the `recurrent` branch"
   ]
  },
  {
   "cell_type": "markdown",
   "metadata": {},
   "source": [
    "# 4 Repeat exercise with your data in 2-3 days "
   ]
  }
 ],
 "metadata": {
  "language_info": {
   "name": "python"
  },
  "orig_nbformat": 4
 },
 "nbformat": 4,
 "nbformat_minor": 2
}
