{
 "cells": [
  {
   "cell_type": "markdown",
   "metadata": {},
   "source": [
    "# 1 Git functions\n",
    "- .gitignore file - \n"
   ]
  },
  {
   "cell_type": "markdown",
   "metadata": {},
   "source": [
    "# 2 Instructions"
   ]
  },
  {
   "cell_type": "markdown",
   "metadata": {},
   "source": [
    "# 3 Exercise\n",
    "\n",
    "Start by creating a new repo.  Make a file or two in the repo for you to work on.\n",
    "\n",
    "\n",
    "If you need some inspiration, I'll be working in a file called `program_languages.txt`. It will contain the best programming languages to learn in 2023.\n",
    "\n",
    "### Part 1: Fast Forward Merge\n",
    "\n",
    "**Your goal is to generate a fast forward merge. Demonstrate that you understand how FF merges work by creating one on your own!**\n",
    "\n",
    "Make a new branch. Do some work in the repo such that when you merge the new branch into master, it results in a fast forward merge.  Merge that branch into master and see if you were right!\n",
    "\n",
    "\n",
    "### Part 2: Merge Commit (No Conflicts)\n",
    "\n",
    "Your goal is to generate a merge commit with NO MERGE CONFLICTS.\n",
    "\n",
    "Create a new branch. Make some changes to the repo such that when you merge the new branch into master, it results in a merge commit.  The merge should not result in any conflicts. Merge that branch into master and see if you were right!\n",
    "\n",
    "### Part 3: Conflicts!\n",
    "\n",
    "Your goal is to generate merge a conflict!\n",
    "\n",
    "Create a new branch.  Make some changes to the repo such that when you merge the new branch into the master branch, it results in a merge conflict. Merge that branch into master and see if you were right! Resolve the conflict!\n",
    "\n"
   ]
  },
  {
   "cell_type": "markdown",
   "metadata": {},
   "source": [
    "# 4 Repeat exercise with your data in 2-3 days "
   ]
  }
 ],
 "metadata": {
  "language_info": {
   "name": "python"
  },
  "orig_nbformat": 4
 },
 "nbformat": 4,
 "nbformat_minor": 2
}
