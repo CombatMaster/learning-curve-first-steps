{
 "cells": [
  {
   "cell_type": "markdown",
   "metadata": {},
   "source": [
    "# 1 Git functions"
   ]
  },
  {
   "cell_type": "markdown",
   "metadata": {},
   "source": [
    "# 2 Instructions"
   ]
  },
  {
   "cell_type": "markdown",
   "metadata": {},
   "source": [
    "# 3 Branching Exercise\n",
    "\n",
    "0. Here you can try different text-art automatic generators:\n",
    "    - by [Patrick Gillespie](http://patorjk.com/software/taag/)\n",
    "    - by [fsymbols site](https://fsymbols.com/text-art/)\n",
    "\n",
    "convolutional, recurrent, lstm, \n",
    "LSTM \n",
    "1. Make a new folder called `Neural_network`\n",
    "2. Make a new git repo inside the folder (make sure you're not in an existing repo)\n",
    "3. Create a new file called `neural_network.txt` (leave it empty for now)\n",
    "4. Add and commit the empty file, with the message \"add empty neural_network file\"\n",
    "5. Immediately make a new branch called `convolutional` and another branch called `recurrent` (both based on the master branch)\n",
    "6. Move to the `convolutional` branch using the `new` command to change branches.\n",
    "7. In the `neural_network.txt` file, add the following:\n",
    "```\n",
    "    Convolutional Neural Network\n",
    "   ______                                 __           __     _                            __\n",
    "  / ____/  ____    ____  _   __  ____    / /  __  __  / /_   (_)  ____    ____   ____ _   / /\n",
    " / /      / __ \\  / __ \\| | / / / __ \\  / /  / / / / / __/  / /  / __ \\  / __ \\ / __ `/  / / \n",
    "/ /___   / /_/ / / / / /| |/ / / /_/ / / /  / /_/ / / /_   / /  / /_/ / / / / // /_/ /  / /  \n",
    "\\____/   \\____/ /_/ /_/ |___/__\\____/ /_/   \\__,_/  \\__/  /_/   \\____/ /_/ /_/ \\__,_/  /_/   \n",
    "                        / | / /  ___   __  __   _____  ____ _   / /                          \n",
    "                       /  |/ /  / _ \\ / / / /  / ___/ / __ `/  / /                           \n",
    "                      / /|  /  /  __// /_/ /  / /    / /_/ /  / /                            \n",
    "                  _  /__ |_/   \\___/ \\__,_/  /_/     \\__,_/  /_/ __                          \n",
    "                 / | / /  ___   / /_ _      __  ____    _____   / /__                        \n",
    "                /  |/ /  / _ \\ / __/| | /| / / / __ \\  / ___/  / //_/                        \n",
    "               / /|  /  /  __// /_  | |/ |/ / / /_/ / / /     / ,<                           \n",
    "              /_/ |_/   \\___/ \\__/  |__/|__/  \\____/ /_/     /_/|_|                          \n",
    "                                                                                             \n",
    "```\n"
   ]
  },
  {
   "cell_type": "markdown",
   "metadata": {},
   "source": [
    "# 4 Repeat exercise with your data in 2-3 days "
   ]
  }
 ],
 "metadata": {
  "language_info": {
   "name": "python"
  },
  "orig_nbformat": 4
 },
 "nbformat": 4,
 "nbformat_minor": 2
}
