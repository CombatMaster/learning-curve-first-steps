{
 "cells": [
  {
   "cell_type": "markdown",
   "metadata": {},
   "source": [
    "# 1 Git functions"
   ]
  },
  {
   "cell_type": "markdown",
   "metadata": {},
   "source": [
    "# 2 Instructions"
   ]
  },
  {
   "cell_type": "markdown",
   "metadata": {},
   "source": [
    "# 3 Branching Exercise\n",
    "\n",
    "0. Here you can try different text-art automatic generators:\n",
    "    - by [Patrick Gillespie](http://patorjk.com/software/taag/)\n",
    "    - by [fsymbols site](https://fsymbols.com/text-art/)\n",
    "\n",
    "convolutional, recurrent, lstm, \n",
    "LSTM \n",
    "1. Make a new folder called `Neural_network`\n",
    "2. Make a new git repo inside the folder (make sure you're not in an existing repo)\n",
    "3. Create a new file called `neural_network.txt` (leave it empty for now)\n",
    "4. Add and commit the empty file, with the message \"add empty neural_network file\"\n",
    "5. Immediately make a new branch called `convolutional` and another branch called `recurrent` (both based on the master branch)\n",
    "6. Move to the `convolutional` branch using the `new` command to change branches.\n",
    "7. In the `neural_network.txt` file, add the following:\n",
    "'''\n",
    "    Convolutional Neural Network\n",
    "\n",
    "  /$$$$$$                                           /$$             /$$     /$$                               /$$\n",
    " /$$__  $$                                         | $$            | $$    |__/                              | $$\n",
    "| $$  \\__/  /$$$$$$  /$$$$$$$  /$$    /$$  /$$$$$$ | $$ /$$   /$$ /$$$$$$   /$$  /$$$$$$  /$$$$$$$   /$$$$$$ | $$\n",
    "| $$       /$$__  $$| $$__  $$|  $$  /$$/ /$$__  $$| $$| $$  | $$|_  $$_/  | $$ /$$__  $$| $$__  $$ |____  $$| $$\n",
    "| $$      | $$  \\ $$| $$  \\ $$ \\  $$/$$/ | $$  \\ $$| $$| $$  | $$  | $$    | $$| $$  \\ $$| $$  \\ $$  /$$$$$$$| $$\n",
    "| $$    $$| $$  | $$| $$  | $$  \\  $$$/  | $$  | $$| $$| $$  | $$  | $$ /$$| $$| $$  | $$| $$  | $$ /$$__  $$| $$\n",
    "|  $$$$$$/|  $$$$$$/| $$  | $$   \\  $/   |  $$$$$$/| $$|  $$$$$$/  |  $$$$/| $$|  $$$$$$/| $$  | $$|  $$$$$$$| $$\n",
    " \\______/  \\______//$$_/ /$$_/    \\_/     \\______/ |__/ \\______/    \\/$$/  |__/ \\______/ |__/  |__/ \\_______/|__/\n",
    "                  | $$$ | $$                                        | $$                                         \n",
    "                  | $$$$| $$  /$$$$$$  /$$   /$$  /$$$$$$   /$$$$$$ | $$                                         \n",
    "                  | $$ $$ $$ /$$__  $$| $$  | $$ /$$__  $$ |____  $$| $$                                         \n",
    "                  | $$  $$$$| $$$$$$$$| $$  | $$| $$  \\__/  /$$$$$$$| $$                                         \n",
    "                  | $$\\  $$$| $$_____/| $$  | $$| $$       /$$__  $$| $$                                         \n",
    "                  | $$ \\  $$|  $$$$$$$|  $$$$$$/| $$      |  $$$$$$$| $$                                         \n",
    "             /$$  |/$$  \\__/ \\_____/$$ \\______/ |__/       \\_______/|__/     /$$                                 \n",
    "            | $$$ | $$            | $$                                      | $$                                 \n",
    "            | $$$$| $$  /$$$$$$  /$$$$$$   /$$  /$$  /$$  /$$$$$$   /$$$$$$ | $$   /$$                           \n",
    "            | $$ $$ $$ /$$__  $$|_  $$_/  | $$ | $$ | $$ /$$__  $$ /$$__  $$| $$  /$$/                           \n",
    "            | $$  $$$$| $$$$$$$$  | $$    | $$ | $$ | $$| $$  \\ $$| $$  \\__/| $$$$$$/                            \n",
    "            | $$\\  $$$| $$_____/  | $$ /$$| $$ | $$ | $$| $$  | $$| $$      | $$_  $$                            \n",
    "            | $$ \\  $$|  $$$$$$$  |  $$$$/|  $$$$$/$$$$/|  $$$$$$/| $$      | $$ \\  $$                           \n",
    "            |__/  \\__/ \\_______/   \\___/   \\_____/\\___/  \\______/ |__/      |__/  \\__/                           \n",
    "                                                                                                 \n",
    "'''\n"
   ]
  },
  {
   "cell_type": "markdown",
   "metadata": {},
   "source": [
    "# 4 Repeat exercise with your data in 2-3 days "
   ]
  }
 ],
 "metadata": {
  "language_info": {
   "name": "python"
  },
  "orig_nbformat": 4
 },
 "nbformat": 4,
 "nbformat_minor": 2
}
