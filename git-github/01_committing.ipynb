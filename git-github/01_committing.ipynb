{
 "cells": [
  {
   "attachments": {},
   "cell_type": "markdown",
   "metadata": {},
   "source": [
    "# Plan \n",
    "- about git \n",
    "- about installation \n",
    "- user's settings \n",
    "- init\n",
    "- status\n",
    "- log\n",
    "- add\n",
    "- commit\n",
    "- exercise"
   ]
  },
  {
   "attachments": {},
   "cell_type": "markdown",
   "metadata": {},
   "source": [
    "# Объявление про мероприятие \"Git c Нуля\" (9-го июля 2023)\n",
    "\n",
    "Цель мероприятия, чтобы Вы попробовали свои силы и: \n",
    "\n",
    "- познакомились с командами git: init, status, log, add, commit,\n",
    "- установили git к себе на компьютер,\n",
    "- выполнили задание данной встречи.\n",
    "\n",
    "Планируемый план:\n",
    "1) обзорная часть про основы Git + ответы на вопросы (10-15 минут)\n",
    "2) демонстрация (15-30 минут): \n",
    "    - подключение к удаленной (linux) VM на Yandex Cloud,\n",
    "    - установка git,\n",
    "    - настройка пользователя в git,\n",
    "    - создание папки \"учебного\" проекта,\n",
    "    - создание и правка  файлов,\n",
    "    - сохранение изменений в Git.\n",
    "3) Будет представлено задание на действия аналогичные пункту 2. \n",
    "Пока будете его делать, можете демонстрировать экран и задавать вопросы."
   ]
  },
  {
   "cell_type": "markdown",
   "metadata": {},
   "source": [
    "# 1 Introduction"
   ]
  },
  {
   "attachments": {},
   "cell_type": "markdown",
   "metadata": {},
   "source": [
    "## 1.1 About Git\n",
    "\n",
    "Git и GitHub (GitLab) совершенно разные вещи и используются для разного\n",
    "\n",
    "Основные функции системы контроля версий:\n",
    "- хранит историю изменений в виде отдельных ревизий;\n",
    "- позволяет манипулировать историей: например, менять порядок ревизий, полностью удалять версии, возвращаться назад в истории;\n",
    "- помогает анализировать изменения: например, кто и когда вносит изменения, кто чаще всего вносит изменения в определённый файл и так далее."
   ]
  },
  {
   "attachments": {},
   "cell_type": "markdown",
   "metadata": {},
   "source": [
    "В каких случаях стоит использовать Git?\n",
    "\n",
    "\n",
    "Правильный ответ\n",
    "Для синхронизации изменений, сделанных разными участниками команды.\n",
    "Git используют для синхронизации данных между участниками одной или нескольких команд.\n",
    "\n",
    "Правильный ответ\n",
    "Чтобы хранить историю изменений файлов при командной работе.\n",
    "Git может определить, кто и в какой момент внёс изменения.\n",
    "\n",
    "Правильный ответ\n",
    "Для хранения нескольких версий проекта, над которым работает один человек.\n",
    "И это тоже верный ответ! Git позволяет «откатиться» к предыдущим версиям, если что-то пошло не так."
   ]
  },
  {
   "cell_type": "markdown",
   "metadata": {},
   "source": [
    "Local repository - an isolated repository stored on your own computer , where you can work on the local version of your project\n"
   ]
  },
  {
   "attachments": {},
   "cell_type": "markdown",
   "metadata": {},
   "source": [
    "## 1.2 About installation \n",
    "\n",
    "Main source for git is https://git-scm.com/\n",
    "\n",
    "Download it for your system https://git-scm.com/downloads\n",
    "\n",
    "Pycharm, VsCode ??\n",
    "\n",
    "### For Windows Users, you should install `Git`+ `Git Bash`:\n",
    "- https://git-scm.com/download/win\n",
    "- Скачайте одну из двух версий из категории Standalone Installer \n",
    "- Запустите программу установки. Обратите внимание, куда будет установлен Git. Обычно это директория `C:\\Program Files\\Git`.\n",
    "- Проверьте, что в списке устанавливаемых программ стоит галочка напротив пункта Git Bash Here — это позволит открывать консоль с Git в любой папке. \n",
    "- В меню пуска введите Git Bash\n",
    "\n",
    "### For linux:\n",
    "```\n",
    "$ sudo apt install git-all\n",
    "```\n",
    "\n",
    "### For Mac\n",
    "Follow instractions [here](https://git-scm.com/download/mac)\n"
   ]
  },
  {
   "attachments": {},
   "cell_type": "markdown",
   "metadata": {},
   "source": [
    "## 1.3 Config Your Name & Email (User's settings)\n",
    "\n",
    "git config --global user.name \"Your Name\"\n",
    "git config --global user.email \"your@email.com\"\n",
    "\n",
    "Replace the values inside the quotes with your name and email address.\n",
    "They should be the same as your GitHub settings.\n"
   ]
  },
  {
   "cell_type": "markdown",
   "metadata": {},
   "source": [
    "## 1.X Git add \n",
    "https://git-scm.com/docs/git-add\n",
    "\n",
    "\n"
   ]
  },
  {
   "cell_type": "markdown",
   "metadata": {},
   "source": [
    "# 2 Instructions\n",
    "\n",
    "1. Make a cloud VM\n",
    "2. Connect to it (Connect to VM by host file in VsCode)\n",
    "3. update, upgrade, curl ident.me\n",
    "4. When and why do you need git? (A-Short-History-of-Git) and [tutorial](https://www.simplilearn.com/tutorials/git-tutorial/what-is-git)\n",
    "5. Make a folder for the novel project [Harry Potter and the Methods of Rationality](https://hpmor.com/) \n",
    "6. get to the novel folder, check status\n",
    "7. git --version or [install](https://git-scm.com/download) git \n",
    "8. git init (in the novel folder)\n",
    "9. user settings (git config user.name)\n",
    "10. (optional) Change branch name: git branch -m main\n",
    "11. Make two empty files: chapter_1, chapter_2.\n",
    "12. Git status\n",
    "13. Add one line to each file.\n",
    "14. `git add .`\n",
    "15. `git commit`/`git commit -m 'create two empty files chapter1, chapter2'`\n",
    "16. `git log`\n",
    "17. Make changes to each file\n",
    "18. git add chapter_1.txt\n",
    "19. `git commit -m 'add chapter_1'`\n",
    "20. git add chapter_2.txt + VScode features\n",
    "21. `git commit -m 'add chapter_3'` + gitlens with VScode\n",
    "22. close remote connection\n",
    "23. Stop and delete VM "
   ]
  },
  {
   "attachments": {},
   "cell_type": "markdown",
   "metadata": {},
   "source": [
    "# 3 Committing Basic Exercise\n",
    "\n",
    "1. Create a new folder called `books`\n",
    "2. Make sure you're not already inside of a Git repo (git status)\n",
    "3. Initialize a new git repo inside of the `books` folder\n",
    "4. Make a new file called `math.txt`\n",
    "5. Make another new file called `python.txt`\n",
    "6. Make a commit that includes both empty files. The message should be \"create math and python book lists\"\n",
    "7. In the `math.txt` file, add the following changes:\n",
    "```\n",
    "    - Essential Math for Data Science by Thomas Nield, May 2022, O'Reilly Media Inc, 347 pp.\n",
    "    - Probabilistic Machine Learning: An Introduction by by Kevin P. Murphy, March 2022, The MIT Press, 864 pp.\n",
    "```\n",
    "8. In the 'python.txt' fil, add the following:\n",
    "```\n",
    "    - Python Crash Course, 3rd Edition A Hands-On, Project-Based Introduction to Programming, by Eric Matthes December 2022, no starch press\n",
    "    - Automate the Boring Stuff with Python, 2nd Edition Practical Programming for Total Beginners, by Al Sweigart, November 2019, no starch press\n",
    "    - Beyond the Basic Stuff with Python Best Practices for Writing Clean Code, by Al Sweigart, December 2020, no starch press\n",
    "```\n",
    "9. Make a new commit, including ONLY the changes from the `python.txt` file. The commit message should be \"add python books from no starch press\"\n",
    "10. Make a second commit including ONLY the changes to the `math.txt` file. It should have the commit message \"add math books for Machine Learning\"\n",
    "11. In the `python.txt` add number of pages for the books:\n",
    "```\n",
    "    - Python Crash Course, ..., no starch press, 552 pp.\n",
    "    - Automate the Boring Stuff ..., no starch press, 592 pp.\n",
    "    - Beyond the Basic Stuff ..., no starch press, 384 pp. \n",
    "```\n",
    "12. Next up, add the following line to the end of `math.txt`:\n",
    "```\n",
    "    - Mathematics for Machine Learning, by Marc Peter Deisenroth, April 2020, Cambridge University Press, 398 pp.\n",
    "```\n",
    "13. Make a commit that includes the changes to BOTH files.  The message should read \"add Deisenroth math book and add number of pages\"\n",
    "14. Use a Git command to display a list of the commits."
   ]
  },
  {
   "cell_type": "markdown",
   "metadata": {},
   "source": [
    "# 4 Repeat exercise in 2-3 days\n"
   ]
  }
 ],
 "metadata": {
  "language_info": {
   "name": "python"
  },
  "orig_nbformat": 4
 },
 "nbformat": 4,
 "nbformat_minor": 2
}
