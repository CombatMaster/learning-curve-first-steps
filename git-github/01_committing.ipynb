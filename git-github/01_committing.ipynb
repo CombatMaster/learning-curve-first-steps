{
 "cells": [
  {
   "attachments": {},
   "cell_type": "markdown",
   "metadata": {},
   "source": [
    "# Basic commands: init, add and commit\n",
    "describe + give links: \n",
    "- about installation \n",
    "- user's settings \n",
    "- init\n",
    "- status\n",
    "- log\n",
    "- add\n",
    "- commit"
   ]
  },
  {
   "attachments": {},
   "cell_type": "markdown",
   "metadata": {},
   "source": [
    "# Committing Basic Exercise\n",
    "\n",
    "1. Create a new folder called `books`\n",
    "2. Make sure you're not already inside of a Git repo (git status)\n",
    "3. Initialize a new git repo inside of the `books` folder\n",
    "4. Make a new file called `math.txt`\n",
    "5. Make another new file called `python.txt`\n",
    "6. Make a commit that includes both empty files. The message should be \"create math and python book lists\"\n",
    "7. In the `math.txt` file, add the following changes:\n",
    "```\n",
    "    - Essential Math for Data Science by Thomas Nield, May 2022, O'Reilly Media Inc, 347 pp.\n",
    "    - Probabilistic Machine Learning: An Introduction by by Kevin P. Murphy, March 2022, The MIT Press, 864 pp.\n",
    "```\n",
    "8. In the 'python.txt' fil, add the following:\n",
    "```\n",
    "    - Python Crash Course, 3rd Edition A Hands-On, Project-Based Introduction to Programming, by Eric Matthes December 2022, no starch press\n",
    "    - Automate the Boring Stuff with Python, 2nd Edition Practical Programming for Total Beginners, by Al Sweigart, November 2019, no starch press\n",
    "    - Beyond the Basic Stuff with Python Best Practices for Writing Clean Code, by Al Sweigart, December 2020, no starch press\n",
    "```\n",
    "9. Make a new commit, including ONLY the changes from the `python.txt` file. The commit message should be \"add python books from no starch press\"\n",
    "10. Make a second commit including ONLY the changes to the `math.txt` file. It should have the commit message \"add math books for Machine Learning\"\n",
    "11. In the `python.txt` add number of pages for the books:\n",
    "```\n",
    "    - Python Crash Course, ..., no starch press, 552 pp.\n",
    "    - Automate the Boring Stuff ..., no starch press, 592 pp.\n",
    "    - Beyond the Basic Stuff ..., no starch press, 384 pp. \n",
    "```\n",
    "12. Next up, add the following line to the end of `math.txt`:\n",
    "```\n",
    "    - Mathematics for Machine Learning, by Marc Peter Deisenroth, April 2020, Cambridge University Press, 398 pp.\n",
    "```\n",
    "13. Make a commit that includes the changes to BOTH files.  The message should read \"add Deisenroth math book and add number of pages\"\n",
    "14. Use a Git command to display a list of the commits."
   ]
  },
  {
   "cell_type": "code",
   "execution_count": null,
   "metadata": {},
   "outputs": [],
   "source": []
  }
 ],
 "metadata": {
  "language_info": {
   "name": "python"
  },
  "orig_nbformat": 4
 },
 "nbformat": 4,
 "nbformat_minor": 2
}
